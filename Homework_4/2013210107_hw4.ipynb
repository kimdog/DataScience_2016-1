{
 "cells": [
  {
   "cell_type": "code",
   "execution_count": 1,
   "metadata": {
    "collapsed": true
   },
   "outputs": [],
   "source": [
    "%matplotlib inline\n",
    "import json, csv\n",
    "import pandas as pd\n",
    "import numpy as np\n",
    "\n",
    "import glob\n",
    "\n",
    "import matplotlib as mpl\n",
    "import matplotlib.cm as cm\n",
    "import matplotlib.pyplot as plt\n",
    "pd.set_option('display.width', 800)\n",
    "pd.set_option('display.max_columns', 100)\n",
    "pd.set_option('display.notebook_repr_html', True)"
   ]
  },
  {
   "cell_type": "code",
   "execution_count": 2,
   "metadata": {
    "collapsed": true
   },
   "outputs": [],
   "source": [
    "reviews = pd.read_csv('data/tripadvisor/hw4_data.csv')\n",
    "\n",
    "# remove reviews with empty review text\n",
    "reviews = reviews[~reviews.text.isnull()] "
   ]
  },
  {
   "cell_type": "code",
   "execution_count": 3,
   "metadata": {
    "collapsed": false
   },
   "outputs": [
    {
     "data": {
      "text/html": [
       "<div>\n",
       "<table border=\"1\" class=\"dataframe\">\n",
       "  <thead>\n",
       "    <tr style=\"text-align: right;\">\n",
       "      <th></th>\n",
       "      <th>rating</th>\n",
       "      <th>uid</th>\n",
       "      <th>text</th>\n",
       "      <th>rtid</th>\n",
       "      <th>label</th>\n",
       "      <th>rid</th>\n",
       "    </tr>\n",
       "  </thead>\n",
       "  <tbody>\n",
       "    <tr>\n",
       "      <th>0</th>\n",
       "      <td>2</td>\n",
       "      <td>35B7E11E17F184C4EF4D41C746202ADF</td>\n",
       "      <td>Steak House really? Service is absolutely horr...</td>\n",
       "      <td>1</td>\n",
       "      <td>bad</td>\n",
       "      <td>295466028</td>\n",
       "    </tr>\n",
       "    <tr>\n",
       "      <th>1</th>\n",
       "      <td>2</td>\n",
       "      <td>7D369B992B8E698723432AC9156E6577</td>\n",
       "      <td>Food was not very good, little ambiance, music...</td>\n",
       "      <td>1</td>\n",
       "      <td>bad</td>\n",
       "      <td>209023118</td>\n",
       "    </tr>\n",
       "    <tr>\n",
       "      <th>2</th>\n",
       "      <td>2</td>\n",
       "      <td>DC5D9DB0F44B41E88414A387A1B16317</td>\n",
       "      <td>Food was good service was horrible. ..seating ...</td>\n",
       "      <td>1</td>\n",
       "      <td>bad</td>\n",
       "      <td>231376390</td>\n",
       "    </tr>\n",
       "    <tr>\n",
       "      <th>3</th>\n",
       "      <td>5</td>\n",
       "      <td>2E717E4CE1CDDEC2F8BE7AF9A61E5D9D</td>\n",
       "      <td>I have seen some negative reviews and I am not...</td>\n",
       "      <td>1</td>\n",
       "      <td>good</td>\n",
       "      <td>225374793</td>\n",
       "    </tr>\n",
       "    <tr>\n",
       "      <th>4</th>\n",
       "      <td>1</td>\n",
       "      <td>DAF5A94AE30E5CBFA06A3D5AA0BB46A4</td>\n",
       "      <td>As I had no car, I had no option but to eat he...</td>\n",
       "      <td>1</td>\n",
       "      <td>bad</td>\n",
       "      <td>179102128</td>\n",
       "    </tr>\n",
       "  </tbody>\n",
       "</table>\n",
       "</div>"
      ],
      "text/plain": [
       "   rating                               uid                                               text  rtid label        rid\n",
       "0       2  35B7E11E17F184C4EF4D41C746202ADF  Steak House really? Service is absolutely horr...     1   bad  295466028\n",
       "1       2  7D369B992B8E698723432AC9156E6577  Food was not very good, little ambiance, music...     1   bad  209023118\n",
       "2       2  DC5D9DB0F44B41E88414A387A1B16317  Food was good service was horrible. ..seating ...     1   bad  231376390\n",
       "3       5  2E717E4CE1CDDEC2F8BE7AF9A61E5D9D  I have seen some negative reviews and I am not...     1  good  225374793\n",
       "4       1  DAF5A94AE30E5CBFA06A3D5AA0BB46A4  As I had no car, I had no option but to eat he...     1   bad  179102128"
      ]
     },
     "execution_count": 3,
     "metadata": {},
     "output_type": "execute_result"
    }
   ],
   "source": [
    "reviews.head()"
   ]
  },
  {
   "cell_type": "code",
   "execution_count": 4,
   "metadata": {
    "collapsed": false
   },
   "outputs": [
    {
     "name": "stdout",
     "output_type": "stream",
     "text": [
      "Number of rows: 12772\n",
      "Number of reviews: 12762\n",
      "Number of restaurants: 1254\n",
      "Number of users: 9130\n",
      "\n",
      "\n",
      "Number of 'good' label: 70410\n",
      "Number of 'bad'   label: 6222\n"
     ]
    }
   ],
   "source": [
    "n_row = len(reviews)\n",
    "n_reviews = reviews.rid.unique().size\n",
    "n_restaurants = reviews.rtid.unique().size\n",
    "n_users = reviews.uid.unique().size\n",
    "n_good = reviews[reviews.label == 'good'].size\n",
    "n_bad = reviews[reviews.label == 'bad'].size\n",
    "\n",
    "print \"Number of rows: %i\" % n_row\n",
    "print \"Number of reviews: %i\" % n_reviews\n",
    "print \"Number of restaurants: %i\" % n_restaurants\n",
    "print \"Number of users: %i\\n\\n\" % n_users\n",
    "print \"Number of 'good' label: %i\" % n_good\n",
    "print \"Number of 'bad'   label: %i\" % n_bad"
   ]
  },
  {
   "cell_type": "code",
   "execution_count": 5,
   "metadata": {
    "collapsed": false
   },
   "outputs": [
    {
     "data": {
      "text/plain": [
       "<matplotlib.text.Text at 0xac731d0>"
      ]
     },
     "execution_count": 5,
     "metadata": {},
     "output_type": "execute_result"
    },
    {
     "data": {
      "image/png": "[encoded data removed]",
      "text/plain": [
       "<matplotlib.figure.Figure at 0xa912dd8>"
      ]
     },
     "metadata": {},
     "output_type": "display_data"
    }
   ],
   "source": [
    "# deep copy 'reviews' data frame \n",
    "df = reviews.copy()\n",
    "df['good'] = df.label == 'good'\n",
    "\n",
    "# group by user id\n",
    "grp = df.groupby('uid')\n",
    "counts = grp.uid.count()\n",
    "means = grp.good.mean()\n",
    "\n",
    "means[counts > 5 ].hist(bins=20, edgecolor='w', lw=1, color='k', alpha=0.5)\n",
    "plt.xlabel(\"Average rating per users\")\n",
    "plt.ylabel(\"N\")"
   ]
  },
  {
   "cell_type": "code",
   "execution_count": 6,
   "metadata": {
    "collapsed": false
   },
   "outputs": [
    {
     "name": "stdout",
     "output_type": "stream",
     "text": [
      "# Original text is \n",
      "This is the first sentence.\n",
      "Creating BOW step by step.\n",
      "This is the last sentence.\n",
      "# Word Vector\n",
      "  (0, 3)\t1\n",
      "  (0, 4)\t1\n",
      "  (0, 6)\t1\n",
      "  (0, 8)\t1\n",
      "  (0, 9)\t1\n",
      "  (1, 0)\t1\n",
      "  (1, 1)\t1\n",
      "  (1, 2)\t1\n",
      "  (1, 7)\t2\n",
      "  (2, 4)\t1\n",
      "  (2, 5)\t1\n",
      "  (2, 6)\t1\n",
      "  (2, 8)\t1\n",
      "  (2, 9)\t1\n"
     ]
    },
    {
     "data": {
      "text/html": [
       "<div>\n",
       "<table border=\"1\" class=\"dataframe\">\n",
       "  <thead>\n",
       "    <tr style=\"text-align: right;\">\n",
       "      <th></th>\n",
       "      <th>bow</th>\n",
       "      <th>by</th>\n",
       "      <th>creating</th>\n",
       "      <th>first</th>\n",
       "      <th>is</th>\n",
       "      <th>last</th>\n",
       "      <th>sentence</th>\n",
       "      <th>step</th>\n",
       "      <th>the</th>\n",
       "      <th>this</th>\n",
       "    </tr>\n",
       "  </thead>\n",
       "  <tbody>\n",
       "    <tr>\n",
       "      <th>0</th>\n",
       "      <td>0</td>\n",
       "      <td>0</td>\n",
       "      <td>0</td>\n",
       "      <td>1</td>\n",
       "      <td>1</td>\n",
       "      <td>0</td>\n",
       "      <td>1</td>\n",
       "      <td>0</td>\n",
       "      <td>1</td>\n",
       "      <td>1</td>\n",
       "    </tr>\n",
       "    <tr>\n",
       "      <th>1</th>\n",
       "      <td>1</td>\n",
       "      <td>1</td>\n",
       "      <td>1</td>\n",
       "      <td>0</td>\n",
       "      <td>0</td>\n",
       "      <td>0</td>\n",
       "      <td>0</td>\n",
       "      <td>2</td>\n",
       "      <td>0</td>\n",
       "      <td>0</td>\n",
       "    </tr>\n",
       "    <tr>\n",
       "      <th>2</th>\n",
       "      <td>0</td>\n",
       "      <td>0</td>\n",
       "      <td>0</td>\n",
       "      <td>0</td>\n",
       "      <td>1</td>\n",
       "      <td>1</td>\n",
       "      <td>1</td>\n",
       "      <td>0</td>\n",
       "      <td>1</td>\n",
       "      <td>1</td>\n",
       "    </tr>\n",
       "  </tbody>\n",
       "</table>\n",
       "</div>"
      ],
      "text/plain": [
       "   bow  by  creating  first  is  last  sentence  step  the  this\n",
       "0    0   0         0      1   1     0         1     0    1     1\n",
       "1    1   1         1      0   0     0         0     2    0     0\n",
       "2    0   0         0      0   1     1         1     0    1     1"
      ]
     },
     "execution_count": 6,
     "metadata": {},
     "output_type": "execute_result"
    }
   ],
   "source": [
    "from sklearn.feature_extraction.text import CountVectorizer\n",
    "\n",
    "example_doc = [\n",
    "    'This is the first sentence.',\n",
    "    'Creating BOW step by step.',\n",
    "    'This is the last sentence.'\n",
    "]\n",
    "\n",
    "print '# Original text is \\n', '\\n'.join(example_doc)\n",
    "\n",
    "vectorizer = CountVectorizer(min_df=0)\n",
    "\n",
    "vectorizer.fit(example_doc)\n",
    "x = vectorizer.transform(example_doc)\n",
    "print '# Word Vector\\n', x\n",
    "\n",
    "bow = x.toarray()\n",
    "\n",
    "bow_df = pd.DataFrame(bow, columns=vectorizer.get_feature_names())\n",
    "bow_df"
   ]
  },
  {
   "cell_type": "code",
   "execution_count": 7,
   "metadata": {
    "collapsed": true
   },
   "outputs": [],
   "source": [
    "def make_xy(reviews, vectorizer=None):\n",
    "    #Your code here    \n",
    "    if vectorizer is None:\n",
    "        vectorizer = CountVectorizer()\n",
    "    X = vectorizer.fit_transform(reviews.text)\n",
    "    X = X.tocsc()  # some versions of sklearn return COO format\n",
    "    y = (reviews.label == 'good').values.astype(np.int)\n",
    "    return X, y\n",
    "\n",
    "X, y = make_xy(reviews)"
   ]
  },
  {
   "cell_type": "code",
   "execution_count": 8,
   "metadata": {
    "collapsed": false
   },
   "outputs": [
    {
     "name": "stdout",
     "output_type": "stream",
     "text": [
      "MN Accuracy: 94.33%\n"
     ]
    }
   ],
   "source": [
    "from sklearn.naive_bayes import MultinomialNB\n",
    "from sklearn.cross_validation import train_test_split\n",
    "xtrain, xtest, ytrain, ytest = train_test_split(X, y)\n",
    "clf = MultinomialNB().fit(xtrain, ytrain)\n",
    "print \"MN Accuracy: %0.2f%%\" % (100 * clf.score(xtest, ytest))"
   ]
  },
  {
   "cell_type": "code",
   "execution_count": 9,
   "metadata": {
    "collapsed": false
   },
   "outputs": [
    {
     "name": "stdout",
     "output_type": "stream",
     "text": [
      "Accuracy on training data: 0.965341\n",
      "Accuracy on test data:     0.943313\n"
     ]
    }
   ],
   "source": [
    "training_accuracy = clf.score(xtrain, ytrain)\n",
    "test_accuracy = clf.score(xtest, ytest)\n",
    "\n",
    "print \"Accuracy on training data: %f\" % (training_accuracy)\n",
    "print \"Accuracy on test data:     %f\" % (test_accuracy)"
   ]
  },
  {
   "cell_type": "code",
   "execution_count": 10,
   "metadata": {
    "collapsed": true
   },
   "outputs": [],
   "source": [
    "from sklearn.cross_validation import KFold\n",
    "def cv_score(clf, X, y, scorefunc):\n",
    "    result = 0.\n",
    "    nfold = 5\n",
    "    for train, test in KFold(y.size, nfold): # split data into train/test groups, 5 times\n",
    "        clf.fit(X[train], y[train]) # fit\n",
    "        result += scorefunc(clf, X[test], y[test]) # evaluate score function on held-out data\n",
    "    return result / nfold # average"
   ]
  },
  {
   "cell_type": "code",
   "execution_count": 11,
   "metadata": {
    "collapsed": true
   },
   "outputs": [],
   "source": [
    "def log_likelihood(clf, x, y):\n",
    "    prob = clf.predict_log_proba(x)\n",
    "    bad = y == 0\n",
    "    good = ~bad\n",
    "    \n",
    "    return prob[bad, 0].sum() + prob[good, 1].sum()"
   ]
  },
  {
   "cell_type": "code",
   "execution_count": 12,
   "metadata": {
    "collapsed": true
   },
   "outputs": [],
   "source": [
    "from sklearn.cross_validation import train_test_split\n",
    "itrain, itest = train_test_split(xrange(reviews.shape[0]), train_size=0.7)\n",
    "mask=np.ones(reviews.shape[0], dtype='int')\n",
    "mask[itrain]=1\n",
    "mask[itest]=0\n",
    "mask = (mask==1)"
   ]
  },
  {
   "cell_type": "code",
   "execution_count": 13,
   "metadata": {
    "collapsed": true
   },
   "outputs": [],
   "source": [
    "#the grid of parameters to search over\n",
    "alphas = [0, .1, 1, 5, 10, 50]\n",
    "min_dfs = [1e-5, 1e-4, 1e-3]"
   ]
  },
  {
   "cell_type": "code",
   "execution_count": 14,
   "metadata": {
    "collapsed": false
   },
   "outputs": [
    {
     "name": "stdout",
     "output_type": "stream",
     "text": [
      "alpha: 0.000000 \t dfs: 0.000010\t cv score: nan\n",
      "alpha: 0.000000 \t dfs: 0.000100\t cv score: nan\n",
      "alpha: 0.000000 \t dfs: 0.001000\t cv score: nan\n",
      "alpha: 0.100000 \t dfs: 0.000010\t cv score: -615.303249\n",
      "alpha: 0.100000 \t dfs: 0.000100\t cv score: -560.426514\n",
      "alpha: 0.100000 \t dfs: 0.001000\t cv score: -496.991417\n",
      "alpha: 1.000000 \t dfs: 0.000010\t cv score: -777.921098\n",
      "alpha: 1.000000 \t dfs: 0.000100\t cv score: -527.208782\n",
      "alpha: 1.000000 \t dfs: 0.001000\t cv score: -516.688509\n",
      "alpha: 5.000000 \t dfs: 0.000010\t cv score: -4875.114789\n",
      "alpha: 5.000000 \t dfs: 0.000100\t cv score: -2461.024806\n",
      "alpha: 5.000000 \t dfs: 0.001000\t cv score: -480.153061\n",
      "alpha: 10.000000 \t dfs: 0.000010\t cv score: -7301.034074\n",
      "alpha: 10.000000 \t dfs: 0.000100\t cv score: -4665.179034\n",
      "alpha: 10.000000 \t dfs: 0.001000\t cv score: -924.234381\n",
      "alpha: 50.000000 \t dfs: 0.000010\t cv score: -10237.260681\n",
      "alpha: 50.000000 \t dfs: 0.000100\t cv score: -8682.749933\n",
      "alpha: 50.000000 \t dfs: 0.001000\t cv score: -4602.683610\n"
     ]
    }
   ],
   "source": [
    "#Find the best value for alpha and min_df, and the best classifier\n",
    "best_alpha = None\n",
    "best_min_df = None\n",
    "maxscore=-np.inf\n",
    "for alpha in alphas:\n",
    "    for min_df in min_dfs:         \n",
    "        vectorizer = CountVectorizer(min_df = min_df)       \n",
    "        Xthis, ythis = make_xy(reviews, vectorizer)\n",
    "        Xtrainthis=Xthis[mask]\n",
    "        ytrainthis=ythis[mask]\n",
    "        clf = MultinomialNB(alpha=alpha)\n",
    "        cvscore = cv_score(clf, Xtrainthis, ytrainthis, log_likelihood)\n",
    "        print \"alpha: %f \\t dfs: %f\\t cv score: %f\" % (alpha, min_df, cvscore)\n",
    "\n",
    "        if cvscore > maxscore:\n",
    "            maxscore = cvscore\n",
    "            best_alpha, best_min_df = alpha, min_df"
   ]
  },
  {
   "cell_type": "code",
   "execution_count": 15,
   "metadata": {
    "collapsed": false
   },
   "outputs": [
    {
     "name": "stdout",
     "output_type": "stream",
     "text": [
      "best alpha: 5.000000\n",
      "best min_df: 0.001000\n"
     ]
    }
   ],
   "source": [
    "print \"best alpha: %f\" % best_alpha\n",
    "print \"best min_df: %f\" % best_min_df"
   ]
  },
  {
   "cell_type": "code",
   "execution_count": 16,
   "metadata": {
    "collapsed": false
   },
   "outputs": [
    {
     "name": "stdout",
     "output_type": "stream",
     "text": [
      "Accuracy on training data: 0.953468\n",
      "Accuracy on test data:     0.943633\n"
     ]
    }
   ],
   "source": [
    "\n",
    "vectorizer = CountVectorizer(min_df=best_min_df)\n",
    "X, y = make_xy(reviews, vectorizer)\n",
    "xtrain=X[mask]\n",
    "ytrain=y[mask]\n",
    "xtest=X[~mask]\n",
    "ytest=y[~mask]\n",
    "\n",
    "clf = MultinomialNB(alpha=best_alpha).fit(xtrain, ytrain)\n",
    "\n",
    "# Your code here. Print the accuracy on the test and training dataset\n",
    "training_accuracy = clf.score(xtrain, ytrain)\n",
    "test_accuracy = clf.score(xtest, ytest)\n",
    "\n",
    "print \"Accuracy on training data: %f\" % (training_accuracy)\n",
    "print \"Accuracy on test data:     %f\" % (test_accuracy)"
   ]
  },
  {
   "cell_type": "code",
   "execution_count": 17,
   "metadata": {
    "collapsed": false
   },
   "outputs": [
    {
     "name": "stdout",
     "output_type": "stream",
     "text": [
      "Top 20 informative words \t     P(good | word)\n",
      "           excellent 0.99\n",
      "           delicious 0.99\n",
      "           fantastic 0.99\n",
      "            favorite 0.99\n",
      "                tour 0.99\n",
      "           wonderful 0.99\n",
      "               great 0.99\n",
      "             enjoyed 0.99\n",
      "             amazing 0.99\n",
      "           selection 0.99\n",
      "                love 0.99\n",
      "               yummy 0.99\n",
      "             awesome 0.99\n",
      "              highly 0.98\n",
      "             perfect 0.98\n",
      "                stop 0.98\n",
      "                 ice 0.98\n",
      "              always 0.98\n",
      "               loved 0.98\n",
      "               guide 0.98\n",
      "---------------------------------------------------------\n",
      "Bottom 20 informative words\t     P(good | word)\n",
      "               bland 0.53\n",
      "              lacked 0.53\n",
      "           situation 0.53\n",
      "               worse 0.52\n",
      "          complained 0.51\n",
      "               stale 0.51\n",
      "               waste 0.50\n",
      "             charged 0.50\n",
      "          flavorless 0.48\n",
      "            mediocre 0.47\n",
      "            horrible 0.46\n",
      "          overcooked 0.45\n",
      "               gross 0.44\n",
      "               worst 0.41\n",
      "                poor 0.39\n",
      "            inedible 0.38\n",
      "                rude 0.36\n",
      "            terrible 0.34\n",
      "               awful 0.33\n",
      "           tasteless 0.28\n"
     ]
    }
   ],
   "source": [
    "words = np.array(vectorizer.get_feature_names())\n",
    "\n",
    "x = np.eye(xtest.shape[1])\n",
    "probs = clf.predict_log_proba(x)[:, 0]\n",
    "ind = np.argsort(probs)\n",
    "\n",
    "good_words = words[ind[:20]]\n",
    "bad_words = words[ind[-20:]]\n",
    "\n",
    "good_prob = probs[ind[:20]]\n",
    "bad_prob = probs[ind[-20:]]\n",
    "\n",
    "print \"Top 20 informative words \\t     P(good | word)\"\n",
    "for w, p in zip(good_words, good_prob):\n",
    "    print \"%20s\" % w, \"%0.2f\" % (1 - np.exp(p))\n",
    "    \n",
    "print \"---------------------------------------------------------\"\n",
    "print \"Bottom 20 informative words\\t     P(good | word)\"\n",
    "for w, p in zip(bad_words, bad_prob):\n",
    "    print \"%20s\" % w, \"%0.2f\" % (1 - np.exp(p))"
   ]
  },
  {
   "cell_type": "code",
   "execution_count": null,
   "metadata": {
    "collapsed": true
   },
   "outputs": [],
   "source": [
    "#Problem 1\n",
    "'''\n",
    "Do you think the informatvie words is reasonable to classify user reviews?\n",
    "Write your opinion and briefly expalen.\n",
    "'''\n",
    "#Answers: Write your answer here\n",
    "'''\n",
    "it is nearly reasonable. but not perfect. because below problems could occur.\n",
    "\n",
    "1. The word has label good or bad, but in context it can be opposite means.\n",
    "\n",
    "2. Not meaningful sentence which are not really effect on label good/bad can have so many good/bad words.\n",
    "\n",
    "3. Just one bad sentence make label even though Good sentence appear often.\n",
    "\n",
    "context is very important. so we should have another sentence analysis technique.\n",
    "\n",
    "'''\n"
   ]
  },
  {
   "cell_type": "code",
   "execution_count": 18,
   "metadata": {
    "collapsed": false
   },
   "outputs": [
    {
     "name": "stdout",
     "output_type": "stream",
     "text": [
      "Mis-predicted bad reviews\n",
      "---------------------------\n",
      "Brunch on a beautiful Sunday morning in San Jose. Outside seating, expected a great relaxing morning with family. We have eaten at El Jardine across the street, it has the same owner and the food was fantastic. So high expectation for at least a decent brunch at Consuelo. The guacamole was fantastic, one the best, don't miss it. But that is the where the satisfaction end. Slow, but very courteous service, food is equal to any fast food joint. I had a Chorizo Benedict, and the Chorizo was dry and flavorless. One more word of caution, if you choice to be seated outside, and who wouldn't on a 70 degree cloudless day, the tables are very, I mean very close together, you will be practical in the conversation of the next table.\n",
      "\n",
      "Went there for lunch and was very disappointed. My friend and I ordered risotto and crab ravioli and their signature meat place as appetizer. The meat plate was pretty good, but way to expensive - $22 for sliced meat and cheese. My crab raviolis were pretty good, I really enjoyed but portion was again way to small for the price. Risotto was a real disaster, it didn't have any flavor and I can do better job home using one of those modern rice cookers with risotto option. Location is really good, I've enjoyed sitting outside and watching people. But I don't think I'm coming back. This place is too touristy and price for the food and service they provide.\n",
      "\n",
      "We tried this a couple of times and I'll admit that it has been a while since I've been there- I'll never go back, but others have only confirmed my first impressions- this is not *good* italian food. The pasta is not al dente or very good- and it is a PASTA shop. The sauces are sugary and lack flavor. It is far from authentic. I am bias, my wife's family comes from Tuscany and I've had great sugos from Lucca, Pisa, Florence, Siena, and many other Italian cities. The farthest south I've gone is Rome which I can't remember the sugo, but I know it was better than Di Puccio's sugo which is probably best to be called a sauce- an American sauce. Frankly I like Ragu or Prego better.\n",
      "\n",
      "The best kebabs in town! The salmon kebabs are beyond delicious and be sure to ask what the daily specials are, you can't go wrong! This place has great cardamom tea and exotic Persian desserts that'll knock your socks off! It's a small but clean restaurant with friendly waitresses. It's a funky little building in an old strip mall but don't let that stop you, the food is fabulous!\n",
      "\n",
      "The Sunday brunch at the Dolce Hayes Mansion is a lovely place for a special meal. The grounds surrounding the mansion have expansive green areas, flower beds, and patios. Brunch has a large selection of breakfast and lunch items set up in a well laid out buffet. Fresh seafood, carved roast beef, and an omelet station are allow for personal tastes. Other breakfast selections include scrambled eggs, hash browns, bacon, sausage, waffles, and a large selection of pastries and donuts. A large salad bar and sliced fruit selections are fresh. Main dishes were chicken Marsala, salmon, tortellini, accompanied by potatoes and vegetables. Finally a nice selection of desserts was hard to resist even though we were stuffed. But what made it even more special was the outstanding service. Upon arrival, we were given a choice of tables that we preferred to sit at and our server, Paz, was the best! She was also taking care of a large group and yet made us feel important at our little table of two. She was smiling, friendly, and our glasses were never empty. Highly recommend.\n",
      "\n",
      "Mis-predicted good reviews\n",
      "--------------------------\n",
      "All San Jose and the surrounding areas applaud the owner of the recently closed Blank Club for taking over this location which has stood unoccupied for several years. I found the ticket prices to be reasonable, the club clean and in a decent area of town, and working to get themselves up and running. Was there the 2nd night of their being open for business, to see Rev. Horton Heat - on their national tour. The club owner is extremely competent and knows how to run a popular and welcoming venue, as he did historically with the Blank Club. This new venue is larger but seems exactly as intimate - what struck me as extremely advantageous was the overhead music between acts was NOT ear shattering and repulsive - how many times have I run into THAT over the years elsewhere! It was a delightful mix of vintage 60's-80's \"Nugget\" style rock - from bands less played but with definite cult followings. I found it difficult to head down the street 2 blocks to dine at Original Joe's as I HONESTLY could not BEAR to miss any songs played during the \"intermissions\" - who ever heard of such a thing - NOT ME! Normally I arrive as late as humanly possible to avoid the ear splitting terrible music that has nothing to do with what I am there to see - they however went out of their way to make this well thought out and a feature to be able to enjoy the music the whole duration of the evening! BRAVO. The staff was extremely helpful and friendly - only one individual who seemed paranoid that the city would give them problems as they hadn't yet obtained their liquor license that night - that's how new they are ~ was abrupt and treated me as though I was some interloper to be questioned when requesting my special all access pass the band had provided for me. He was NOT friendly in his \"questioning\" me and my first thought was NEVER AGAIN!!!!! However the rest of the staff came to my rescue and sought out the band's manager - cleared everything - and I was treated like royalty from there on out - exceptional service. In fact, I felt the bartenders, and other staff and security were STELLAR. Although the club could use at least a FEW chairs around the perimeter who may not wish to stand all night, that can be adjusted later as they proceed with opening the club. FABULOUS sight lines, cleanliness and location all plusses and again, the venue is desperately needed and can hold more than the Blank Club did without selling out immediately for a known act such as this. I WILL BE BACK ON MANY OCCASIONS!\n",
      "\n",
      "This was our first visit to Billy Berk's and honestly speaking, it was the only place in the area that was open on Christmas night when we were looking for a place to eat some good late evening snacks. By good I mean healthier than the usual junk food. The zucchini, prawns and wings were simply delicious and we cleaned the plates. We were readily welcomed as we walked in by a charming, warm lady and seated promptly. We also thoroughly enjoyed our visit because our waitperson was excellent. Her name escapes me at the moment, but I do want to make an observation about her customer service. The kitchen was due to close and people were kind fo dawdling in for various reasons, but one table in particular near us dawdled to the point of the kitchen finally closing. (I believe they were initially told about the kitchen closing.) Still, the waitperson told them she would check to see if they could still order and she came back with a positive answer. I have no doubt in my mind they would have kicked up a fuss if the answer had been no, but she would have handled the situation profesionally. So I say hats off to Billy Berk's for being open late on Christmas Day, having great reasonably priced food and for delivering world class service!\n",
      "\n",
      "Feb 18, 2013, I decided to stop in before noon just to check out this brand new restaurant/sports bar that opened up in my area. As soon as I walked in I was greeted with a high five from a young man at desk while everyone else greeted me too. I told them i just wanted to walk around and they told me anything I need just ask. I walked around and decided to sit down to try out some wings after a very nice young man named Mitchell Sharpiro I think thats the name he gave me told me about a daily special for .50 cent wings. I decided to move to bar area to watch one of the dozens of large television sand play an interactive Texas Hold Em card game on big screen. I was immediately helped by two gentleman names I forgot, so sorry. I never have eaten at a Buffalo Wild Wings so I asked for a recomendation on flavor of sauces. I had a drink special with chicken wings and a Asian sauce and blue cheese sauce which were both great. Thumbs up to the management and to the many workers who did a great job making this a cheerful place. I know I will be back with all my friends and family. To bad I didn't know about the free wings for a year as I would have tried to be there! See you there soon. Paul G\n",
      "\n",
      "Went for dinner; were seated quickly and the waiter was very pleasant; I requested the gluten free pasta and basically told him to have the chef prepare whatever he could do with shrimps. The past is good, portions are good size and service prompt. The waiter comes up and starts picking up my mother's plate; she had not finished and her plate was still fairly full; I told him she did not finish and asked him not to pick up the other plates at the table. I truly said it very nicely and with a soft voice; I think he got upset because he was nowhere to be seen. I asked for the check which somebody else brought it and then literally waited for 10 minutes and nobody came to pick it up. Went to the front to pay and ALL the servers were watching a soccer game in the bar area. The worst part was the the owner was in the restaurant and even the manager was watching TV. The place is not cheap; I think it has good value but somebody needs to watch over the staff. I get that there is an important soccer game but I don't stop my business because I want to watch the news or want to chit chat. Not sure if I would go back.\n",
      "\n",
      "Food is good, no doubt on that, however, I ordered the Asparagus & Prawn salad, it was missing it's sunflower seeds, pea shoots & mint. Also, a slice of radish still had the root on it; when I brought this to the waiter's attention, he made light of it saying it was a healthy restaurant, as if eating the root was a positive thing. The wait staff seems to need better training, when the waiter brought my cocktail, he spilled it when he put it on the table, and didn't notice; didn't bring cocktail napkins. Ended up asking a bus boy if he could help with the spill, he was very accommodating, wanted to change the paper table cover, but I said just some cocktail napkins would be all right. My friend asked if there was something that could be put down on a part of the paper table cover that was flapping in the breeze ( we chose to sit out doors,) the bus boy began to pick up her butter dish, she told him she needed that, he ended up bringing another dish. Waiter brought our entree, but never checked back throughout our meal to see if there was anything else we wanted. We asked the bus boy for more bread, he must have told the waiter because immediately after, the waiter came to check on us. When the waiter brought the check he put it on top of one of the butter dishes which had butter in it. I would have liked the bus boy to receive the tip, he was more attentive and had a wanting to please attitude, we didn't feel that from the waiter. After, we both thought we shouldn't have left him as much as we did. This restaurant is independently owned, which I prefer to chains; has an extensive wine list. My cocktail was surprisingly small, guava juice with a sparkling wine; my friend's cocktail was better. No reason to go rushing back, there are plenty of other choices.\n",
      "\n"
     ]
    },
    {
     "name": "stderr",
     "output_type": "stream",
     "text": [
      "C:\\Users\\sec\\Anaconda2\\lib\\site-packages\\ipykernel\\__main__.py:12: FutureWarning: irow(i) is deprecated. Please use .iloc[i] or .iat[i]\n",
      "C:\\Users\\sec\\Anaconda2\\lib\\site-packages\\ipykernel\\__main__.py:18: FutureWarning: irow(i) is deprecated. Please use .iloc[i] or .iat[i]\n"
     ]
    }
   ],
   "source": [
    "x, y = make_xy(reviews, vectorizer)\n",
    "\n",
    "prob = clf.predict_proba(x)[:, 0]\n",
    "predict = clf.predict(x)\n",
    "\n",
    "miss_bad = np.argsort(prob[y == 0])[:5]\n",
    "miss_good = np.argsort(prob[y == 1])[-5:]\n",
    "\n",
    "print \"Mis-predicted bad reviews\"\n",
    "print '---------------------------'\n",
    "for row in miss_bad:\n",
    "    print reviews[y == 0].text.irow(row)\n",
    "    print\n",
    "\n",
    "print \"Mis-predicted good reviews\"\n",
    "print '--------------------------'\n",
    "for row in miss_good:\n",
    "    print reviews[y == 1].text.irow(row)\n",
    "    print"
   ]
  },
  {
   "cell_type": "code",
   "execution_count": 19,
   "metadata": {
    "collapsed": false
   },
   "outputs": [
    {
     "data": {
      "text/plain": [
       "array([[ 0.0022423,  0.9977577]])"
      ]
     },
     "execution_count": 19,
     "metadata": {},
     "output_type": "execute_result"
    }
   ],
   "source": [
    "clf.predict_proba(vectorizer.transform([\n",
    "            \"\"\"\n",
    "            Tartine is one of those bakeries that every raves about and \\\\\n",
    "            you\\'re supposed to have your socks knocked off every time you go there. \"\"\"]))"
   ]
  },
  {
   "cell_type": "code",
   "execution_count": null,
   "metadata": {
    "collapsed": true
   },
   "outputs": [],
   "source": [
    "#Problem 2\n",
    "'''\n",
    "We got the model for user review classification problmes.\n",
    "How to improve the accuracy of model?\n",
    "'''\n",
    "# Answers: write your answer here\n",
    "'''\n",
    "1. give each word Weight. it means 'perfect' is more influence than 'bad' , 'nice' is less influence than 'never' on deciding label.\n",
    "\n",
    "2. use sentence analysis. in the past time, I have learned about 'natural language processing method' which is produced by Stanford.\n",
    "    by using this skill, we can get form of each word, like verb, noun...\n",
    "    this features will be helpful to classification.\n",
    "    \n",
    "3. We should know some sentence which can reverse whole context.\n",
    "    ex) bad.. worse.. bad.. bad.. but perfect food.\n",
    "    as you can see, just one sentence 'but perfect' decide the label good.\n",
    "\n",
    "and some other skills, like adding other meaningful features and adjusting weight of vital features,\n",
    "will make accuracy high.\n",
    "'''"
   ]
  },
  {
   "cell_type": "code",
   "execution_count": 20,
   "metadata": {
    "collapsed": true
   },
   "outputs": [],
   "source": [
    "# calibration\n",
    "\n",
    "def calibration_plot(clf, xtest, ytest):\n",
    "    prob = clf.predict_proba(xtest)[:, 1]\n",
    "    outcome = ytest\n",
    "    data = pd.DataFrame(dict(prob=prob, outcome=outcome))\n",
    "\n",
    "    #group outcomes into bins of similar probability\n",
    "    bins = np.linspace(0, 1, 20)\n",
    "    cuts = pd.cut(prob, bins)\n",
    "    binwidth = bins[1] - bins[0]\n",
    "    \n",
    "    #freshness ratio and number of examples in each bin\n",
    "    cal = data.groupby(cuts).outcome.agg(['mean', 'count'])\n",
    "    cal['pmid'] = (bins[:-1] + bins[1:]) / 2\n",
    "    cal['sig'] = np.sqrt(cal.pmid * (1 - cal.pmid) / cal['count'])\n",
    "        \n",
    "    #the calibration plot\n",
    "    ax = plt.subplot2grid((3, 1), (0, 0), rowspan=2)\n",
    "    p = plt.errorbar(cal.pmid, cal['mean'], cal['sig'])\n",
    "    plt.plot(cal.pmid, cal.pmid, linestyle='--', lw=1, color='k')\n",
    "    plt.ylabel(\"Empirical P(Good)\")\n",
    "    \n",
    "    #the distribution of P(fresh)\n",
    "    ax = plt.subplot2grid((3, 1), (2, 0), sharex=ax)\n",
    "    \n",
    "    plt.bar(left=cal.pmid - binwidth / 2, height=cal['count'],\n",
    "            width=.95 * (bins[1] - bins[0]),\n",
    "            fc=p[0].get_color())\n",
    "    \n",
    "    plt.xlabel(\"Predicted P(Good)\")\n",
    "    plt.ylabel(\"Number\")"
   ]
  },
  {
   "cell_type": "code",
   "execution_count": 21,
   "metadata": {
    "collapsed": false
   },
   "outputs": [
    {
     "data": {
      "image/png": "[encoded data removed]",
      "text/plain": [
       "<matplotlib.figure.Figure at 0xade1550>"
      ]
     },
     "metadata": {},
     "output_type": "display_data"
    }
   ],
   "source": [
    "calibration_plot(clf, xtest, ytest)"
   ]
  },
  {
   "cell_type": "code",
   "execution_count": 22,
   "metadata": {
    "collapsed": true
   },
   "outputs": [],
   "source": [
    "#http://scikit-learn.org/dev/modules/feature_extraction.html#text-feature-extraction\n",
    "#http://scikit-learn.org/dev/modules/classes.html#text-feature-extraction-ref\n",
    "from sklearn.feature_extraction.text import TfidfVectorizer\n",
    "tfidfvectorizer = TfidfVectorizer(min_df=1, stop_words='english')\n",
    "Xtfidf=tfidfvectorizer.fit_transform(reviews.text)"
   ]
  },
  {
   "cell_type": "code",
   "execution_count": 23,
   "metadata": {
    "collapsed": false
   },
   "outputs": [
    {
     "data": {
      "text/plain": [
       "array([[ 0.,  0.,  0., ...,  0.,  0.,  0.]])"
      ]
     },
     "execution_count": 23,
     "metadata": {},
     "output_type": "execute_result"
    }
   ],
   "source": [
    "Xtfidf[0].toarray()"
   ]
  },
  {
   "cell_type": "code",
   "execution_count": 24,
   "metadata": {
    "collapsed": false
   },
   "outputs": [
    {
     "data": {
      "text/plain": [
       "(12772, 16584)"
      ]
     },
     "execution_count": 24,
     "metadata": {},
     "output_type": "execute_result"
    }
   ],
   "source": [
    "Xtfidf.shape"
   ]
  },
  {
   "cell_type": "code",
   "execution_count": 25,
   "metadata": {
    "collapsed": false
   },
   "outputs": [
    {
     "data": {
      "text/html": [
       "<div>\n",
       "<table border=\"1\" class=\"dataframe\">\n",
       "  <thead>\n",
       "    <tr style=\"text-align: right;\">\n",
       "      <th></th>\n",
       "      <th>Gender</th>\n",
       "      <th>Height</th>\n",
       "      <th>Weight</th>\n",
       "    </tr>\n",
       "  </thead>\n",
       "  <tbody>\n",
       "    <tr>\n",
       "      <th>0</th>\n",
       "      <td>Male</td>\n",
       "      <td>73.847017</td>\n",
       "      <td>241.893563</td>\n",
       "    </tr>\n",
       "    <tr>\n",
       "      <th>1</th>\n",
       "      <td>Male</td>\n",
       "      <td>68.781904</td>\n",
       "      <td>162.310473</td>\n",
       "    </tr>\n",
       "    <tr>\n",
       "      <th>2</th>\n",
       "      <td>Male</td>\n",
       "      <td>74.110105</td>\n",
       "      <td>212.740856</td>\n",
       "    </tr>\n",
       "    <tr>\n",
       "      <th>3</th>\n",
       "      <td>Male</td>\n",
       "      <td>71.730978</td>\n",
       "      <td>220.042470</td>\n",
       "    </tr>\n",
       "    <tr>\n",
       "      <th>4</th>\n",
       "      <td>Male</td>\n",
       "      <td>69.881796</td>\n",
       "      <td>206.349801</td>\n",
       "    </tr>\n",
       "  </tbody>\n",
       "</table>\n",
       "</div>"
      ],
      "text/plain": [
       "  Gender     Height      Weight\n",
       "0   Male  73.847017  241.893563\n",
       "1   Male  68.781904  162.310473\n",
       "2   Male  74.110105  212.740856\n",
       "3   Male  71.730978  220.042470\n",
       "4   Male  69.881796  206.349801"
      ]
     },
     "execution_count": 25,
     "metadata": {},
     "output_type": "execute_result"
    }
   ],
   "source": [
    "# density estimation and unsupervised learning\n",
    "\n",
    "df=pd.read_csv(\"data/01_heights_weights_genders.csv\")\n",
    "df.head()"
   ]
  },
  {
   "cell_type": "code",
   "execution_count": 26,
   "metadata": {
    "collapsed": false
   },
   "outputs": [
    {
     "data": {
      "image/png": "[encoded data removed]",
      "text/plain": [
       "<matplotlib.figure.Figure at 0xa912f28>"
      ]
     },
     "metadata": {},
     "output_type": "display_data"
    }
   ],
   "source": [
    "plt.plot(df.Weight, df.Height, '.', alpha=0.05);"
   ]
  },
  {
   "cell_type": "code",
   "execution_count": 27,
   "metadata": {
    "collapsed": true
   },
   "outputs": [],
   "source": [
    "# K-means\n",
    "\n",
    "Xall=df[['Height', 'Weight']].values\n",
    "from sklearn.cluster import KMeans\n",
    "n_clusters=2\n",
    "clfKMeans = KMeans(n_clusters=n_clusters)\n",
    "clfKMeans.fit(Xall)\n",
    "\n",
    "kmeans_labels = clfKMeans.predict(Xall)"
   ]
  },
  {
   "cell_type": "code",
   "execution_count": 39,
   "metadata": {
    "collapsed": false
   },
   "outputs": [
    {
     "data": {
      "image/png": "[encoded data removed]",
      "text/plain": [
       "<matplotlib.figure.Figure at 0xe6f2588>"
      ]
     },
     "metadata": {},
     "output_type": "display_data"
    }
   ],
   "source": [
    "plt.figure()\n",
    "ax=plt.gca()\n",
    "\n",
    "for k, col in zip(range(n_clusters), ['blue','red']):\n",
    "    my_members = kmeans_labels == k\n",
    "    ax.plot(Xall[my_members, 0], Xall[my_members, 1], 'w',\n",
    "            markerfacecolor=col, marker='.', alpha=0.05)"
   ]
  },
  {
   "cell_type": "code",
   "execution_count": 43,
   "metadata": {
    "collapsed": false
   },
   "outputs": [
    {
     "name": "stdout",
     "output_type": "stream",
     "text": [
      "GMM(covariance_type='tied', init_params='wmc', min_covar=0.001,\n",
      "  n_components=2, n_init=1, n_iter=100, params='wmc', random_state=None,\n",
      "  thresh=None, tol=0.001, verbose=0)\n",
      "[[  63.75391936  136.64032287]\n",
      " [  69.0500144   186.89334818]] [[   7.79202049   47.70626591]\n",
      " [  47.70626591  399.61471025]]\n"
     ]
    }
   ],
   "source": [
    "# GMM \n",
    "\n",
    "Xall=df[['Height', 'Weight']].values\n",
    "from sklearn.mixture import GMM\n",
    "n_clusters=2\n",
    "clfgmm = GMM(n_components=n_clusters, covariance_type=\"tied\")\n",
    "clfgmm.fit(Xall)\n",
    "print clfgmm\n",
    "gmm_means=clfgmm.means_\n",
    "gmm_covar=clfgmm.covars_\n",
    "print gmm_means, gmm_covar"
   ]
  },
  {
   "cell_type": "code",
   "execution_count": 45,
   "metadata": {
    "collapsed": true
   },
   "outputs": [],
   "source": [
    "from scipy import linalg\n",
    "\n",
    "def plot_ellipse(splot, mean, cov, color):\n",
    "    v, w = linalg.eigh(cov)\n",
    "    u = w[0] / linalg.norm(w[0])\n",
    "    angle = np.arctan(u[1] / u[0])\n",
    "    angle = 180 * angle / np.pi  # convert to degrees\n",
    "    # filled Gaussian at 2 standard deviation\n",
    "    ell = mpl.patches.Ellipse(mean, 2 * v[0] ** 0.5, 2 * v[1] ** 0.5,\n",
    "                              180 + angle, color=color, lw=3, fill=False)\n",
    "    ell.set_clip_box(splot.bbox)\n",
    "    ell1 = mpl.patches.Ellipse(mean, 1 * v[0] ** 0.5, 1 * v[1] ** 0.5,\n",
    "                              180 + angle, color=color, lw=3, fill=False)\n",
    "    ell1.set_clip_box(splot.bbox)\n",
    "    ell3 = mpl.patches.Ellipse(mean, 3 * v[0] ** 0.5, 3 * v[1] ** 0.5,\n",
    "                              180 + angle, color=color, lw=3, fill=False)\n",
    "    ell3.set_clip_box(splot.bbox)\n",
    "    #ell.set_alpha(0.2)\n",
    "    splot.add_artist(ell)\n",
    "    splot.add_artist(ell1)\n",
    "    splot.add_artist(ell3)"
   ]
  },
  {
   "cell_type": "code",
   "execution_count": 48,
   "metadata": {
    "collapsed": false
   },
   "outputs": [
    {
     "name": "stdout",
     "output_type": "stream",
     "text": [
      "GMM(covariance_type='tied', init_params='wmc', min_covar=0.001,\n",
      "  n_components=2, n_init=1, n_iter=100, params='wmc', random_state=None,\n",
      "  thresh=None, tol=0.001, verbose=0)\n"
     ]
    },
    {
     "data": {
      "image/png": "[encoded data removed]",
      "text/plain": [
       "<matplotlib.figure.Figure at 0xc7cfa20>"
      ]
     },
     "metadata": {},
     "output_type": "display_data"
    }
   ],
   "source": [
    "plt.figure()\n",
    "ax=plt.gca()\n",
    "plot_ellipse(ax, gmm_means[0], gmm_covar, 'k')\n",
    "plot_ellipse(ax, gmm_means[1], gmm_covar, 'k')\n",
    "gmm_labels=clfgmm.predict(Xall)\n",
    "\n",
    "print clfgmm\n",
    "\n",
    "for k, col in zip(range(n_clusters), ['blue','red']):\n",
    "    my_members = gmm_labels == k\n",
    "    ax.plot(Xall[my_members, 0], Xall[my_members, 1], 'w',\n",
    "            markerfacecolor=col, marker='.', alpha=0.05)"
   ]
  },
  {
   "cell_type": "code",
   "execution_count": 47,
   "metadata": {
    "collapsed": false
   },
   "outputs": [
    {
     "name": "stdout",
     "output_type": "stream",
     "text": [
      "GMM(covariance_type='tied', init_params='wmc', min_covar=0.001,\n",
      "  n_components=2, n_init=1, n_iter=100, params='wmc', random_state=None,\n",
      "  thresh=None, tol=0.001, verbose=0)\n",
      "[[  63.30167063  131.90768588]\n",
      " [  69.7079777   192.50958707]\n",
      " [  66.34500484  162.88750481]] [[   7.03866394   40.79478215]\n",
      " [  40.79478215  335.39387672]]\n"
     ]
    },
    {
     "data": {
      "image/png": "[encoded data removed]",
      "text/plain": [
       "<matplotlib.figure.Figure at 0xaf54a20>"
      ]
     },
     "metadata": {},
     "output_type": "display_data"
    }
   ],
   "source": [
    "\n",
    "n_clusters=3\n",
    "clfgmm3 = GMM(n_components=n_clusters, covariance_type=\"tied\")\n",
    "clfgmm3.fit(Xall)\n",
    "print clfgmm\n",
    "gmm_means=clfgmm3.means_\n",
    "gmm_covar=clfgmm3.covars_\n",
    "print gmm_means, gmm_covar\n",
    "plt.figure()\n",
    "ax=plt.gca()\n",
    "plot_ellipse(ax, gmm_means[0], gmm_covar, 'k')\n",
    "plot_ellipse(ax, gmm_means[1], gmm_covar, 'k')\n",
    "plot_ellipse(ax, gmm_means[2], gmm_covar, 'k')\n",
    "gmm_labels=clfgmm3.predict(Xall)\n",
    "for k, col in zip(range(n_clusters), ['blue','red', 'green']):\n",
    "    my_members = gmm_labels == k\n",
    "    ax.plot(Xall[my_members, 0], Xall[my_members, 1], 'w',\n",
    "            markerfacecolor=col, marker='.', alpha=0.05)"
   ]
  },
  {
   "cell_type": "code",
   "execution_count": null,
   "metadata": {
    "collapsed": true
   },
   "outputs": [],
   "source": [
    "# Problem 3\n",
    "'''\n",
    "We should find which custer number is suited in clustering problem. How to find the resaonable cluster size?\n",
    "'''\n",
    "\n",
    "# answer\n",
    "'''\n",
    "1. make sum of each cluster's variance lower than threshold.\n",
    "2. make each cluster's variance lower than threshold. \n",
    "3. make the lowest probablity of data on each cluster greater than threshold\n",
    "4. make distance of the farthest data on each cluster smaller than threshold\n",
    "\n",
    "if not satisfying above condition, increase cluster size.\n",
    "it assume that fundamentally the bigger cluster size, the smaller variance, and distance of the farthest data.(and bigger probability.)\n",
    "\n",
    "by this process, we can choose better cluster size.\n",
    "\n",
    "'''\n"
   ]
  }
 ],
 "metadata": {
  "kernelspec": {
   "display_name": "Python 2",
   "language": "python",
   "name": "python2"
  },
  "language_info": {
   "codemirror_mode": {
    "name": "ipython",
    "version": 2
   },
   "file_extension": ".py",
   "mimetype": "text/x-python",
   "name": "python",
   "nbconvert_exporter": "python",
   "pygments_lexer": "ipython2",
   "version": "2.7.11"
  }
 },
 "nbformat": 4,
 "nbformat_minor": 0
}
